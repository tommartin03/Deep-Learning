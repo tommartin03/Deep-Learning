{
 "cells": [
  {
   "cell_type": "markdown",
   "id": "df88816b",
   "metadata": {
    "id": "df88816b"
   },
   "source": [
    "# TP 3 — Un petit réseau\n"
   ]
  },
  {
   "cell_type": "markdown",
   "id": "8e5d9cd3",
   "metadata": {
    "id": "8e5d9cd3"
   },
   "source": [
    "## 1) Imports et chargement du dataset\n",
    "\n",
    "Chargement des modules nécessaires et du dataset Iris, standardisation des features et split en train/test."
   ]
  },
  {
   "cell_type": "code",
   "execution_count": 1,
   "id": "4122a6ca",
   "metadata": {
    "id": "4122a6ca"
   },
   "outputs": [
    {
     "name": "stderr",
     "output_type": "stream",
     "text": [
      "/usr/local/lib/python3.10/dist-packages/matplotlib/projections/__init__.py:63: UserWarning: Unable to import Axes3D. This may be due to multiple versions of Matplotlib being installed (e.g. as a system package and as a pip package). As a result, the 3D projection is not available.\n",
      "  warnings.warn(\"Unable to import Axes3D. This may be due to multiple versions of \"\n"
     ]
    },
    {
     "name": "stdout",
     "output_type": "stream",
     "text": [
      "Train: (120, 4) Test: (30, 4)\n"
     ]
    }
   ],
   "source": [
    "import numpy as np  # Bibliothèque pour calculs matriciels et tableaux\n",
    "import matplotlib.pyplot as plt  # Pour les graphiques\n",
    "from sklearn.datasets import load_iris  # Dataset Iris (150 fleurs, 4 features, 3 classes)\n",
    "from sklearn.model_selection import train_test_split  # Découper en train/test\n",
    "from sklearn.preprocessing import StandardScaler  # Normalisation des données\n",
    "from sklearn.metrics import confusion_matrix, ConfusionMatrixDisplay  # Évaluation\n",
    "\n",
    "# Chargement du dataset Iris\n",
    "# Chargement du dataset Iris\n",
    "iris = load_iris()  # Charge les données\n",
    "X = iris.data  # Features : 4 mesures (longueur/largeur sépales/pétales)\n",
    "y = iris.target  # Labels : 0, 1, ou 2 (setosa, versicolor, virginica)\n",
    "\n",
    "# Normalisation : centre les données (moyenne=0, écart-type=1)\n",
    "scaler = StandardScaler()  # Crée l'objet qui va normaliser\n",
    "X = scaler.fit_transform(X)  # Calcule moyenne/écart-type ET transforme X\n",
    "\n",
    "# Découpage en ensemble d'entraînement (80%) et test (20%)\n",
    "X_train, X_test, y_train, y_test = train_test_split(\n",
    "    X, y, test_size=0.2, random_state=42\n",
    ")\n",
    "print('Train:', X_train.shape, 'Test:', X_test.shape)  # Affiche les dimensions"
   ]
  },
  {
   "cell_type": "markdown",
   "id": "bc84c2b0",
   "metadata": {
    "id": "bc84c2b0"
   },
   "source": [
    "## 2) Initialisation du réseau\n",
    "\n",
    "Matrices W1, b1, W2, b2"
   ]
  },
  {
   "cell_type": "code",
   "execution_count": 2,
   "id": "503eb9d6",
   "metadata": {
    "id": "503eb9d6"
   },
   "outputs": [
    {
     "name": "stdout",
     "output_type": "stream",
     "text": [
      "Shapes: W1 (4, 10) b1 (1, 10) W2 (10, 3) b2 (1, 3)\n"
     ]
    }
   ],
   "source": [
    "D = X_train.shape[1]  # Nombre de features en entrée (4)\n",
    "H = 10  # Nombre de neurones dans la couche cachée\n",
    "C = 3  # Nombre de classes en sortie (3 espèces)\n",
    "\n",
    "# Initialisation de W1 : matrice (4, 10) (avec Xavier/He initialization possible\n",
    "# (multiplie par sqrt(2/D) pour éviter vanishing/exploding gradients)\n",
    "W1 = np.random.randn(D, H) \n",
    "\n",
    "# Biais de la couche 1 : vecteur (1, 10) initialisé à zéro\n",
    "b1 = np.zeros((1, H))\n",
    "\n",
    "# Initialisation de W2 : matrice (10, 3)\n",
    "W2 = np.random.randn(H,C)\n",
    "\n",
    "# Biais de la couche 2 : vecteur (1, 3)\n",
    "b2 = np.zeros((1,C))\n",
    "\n",
    "print('Shapes: W1', W1.shape, 'b1', b1.shape, 'W2', W2.shape, 'b2', b2.shape)"
   ]
  },
  {
   "cell_type": "markdown",
   "id": "37e75679",
   "metadata": {
    "id": "37e75679"
   },
   "source": [
    "## 3) Fonctions utilitaires\n",
    "\n",
    "Implémentation de `softmax`, `relu`, `relu_deriv`, `cross_entropy_loss`, `accuracy`."
   ]
  },
  {
   "cell_type": "code",
   "execution_count": 3,
   "id": "7539ccef",
   "metadata": {
    "id": "7539ccef"
   },
   "outputs": [],
   "source": [
    "def softmax(Z):\n",
    "    \"\"\"Transforme les scores en probabilités (somme = 1)\"\"\"\n",
    "    # Soustrait le max pour stabilité numérique (évite overflow avec exp)\n",
    "    Z_stable = Z - np.max(Z, axis=1, keepdims=True)\n",
    "    expZ = np.exp(Z_stable)  # Exponentielle de chaque élément\n",
    "    # Divise par la somme pour avoir des probas qui somment à 1\n",
    "    probs = expZ / np.sum(expZ, axis=1, keepdims=True)\n",
    "    return probs\n",
    "\n",
    "def relu(Z):\n",
    "    # ⛳ À COMPLETER Met à 0 toutes les valeurs négatives\n",
    "    return np.maximum(0,Z)\n",
    "\n",
    "def relu_deriv(Z):\n",
    "    # ⛳ À COMPLETER Convertit booléen en float\n",
    "    return (Z > 0).astype(float)\n",
    "\n",
    "def cross_entropy_loss(probs, y):\n",
    "    \"\"\"Calcule la loss (cross-entropy) entre prédictions et vraies classes\"\"\"\n",
    "    N = y.shape[0]  # Nombre d'exemples\n",
    "    # Prend le log de la proba de la bonne classe pour chaque exemple\n",
    "    correct_logprobs = -np.log(probs[np.arange(N), y] + 1e-15)\n",
    "    loss = np.sum(correct_logprobs) / N  # Moyenne sur tous les exemples\n",
    "    return loss\n",
    "\n",
    "def accuracy(probs, y):\n",
    "    \"\"\"Calcule le pourcentage de bonnes prédictions\"\"\"\n",
    "    preds = np.argmax(probs, axis=1)  # Classe avec la plus haute proba\n",
    "    return np.mean(preds == y)  # Proportion de prédictions correctes\n"
   ]
  },
  {
   "cell_type": "markdown",
   "id": "7eb2265a",
   "metadata": {
    "id": "7eb2265a"
   },
   "source": [
    "## 4) Forward pass\n",
    "\n",
    "La fonction `forward(X, W1, b1, W2, b2)` qui renvoie `(probs, cache)`."
   ]
  },
  {
   "cell_type": "code",
   "execution_count": 4,
   "id": "b3b0ebb9",
   "metadata": {
    "id": "b3b0ebb9"
   },
   "outputs": [],
   "source": [
    "def forward(X, W1, b1, W2, b2):\n",
    "    # ⛳ À COMPLETER calculer Z1, A1 (utilisation de ReLu), Z2 (utilisation de softmax), probs\n",
    "    # ⛳ et retourner probs, cache\n",
    "    Z1 = np.matmul(X,W1) + b1\n",
    "    A1 = relu(Z1)\n",
    "    \n",
    "    Z2 = np.matmul(A1,W2) + b2\n",
    "    probs = softmax(Z2)\n",
    "    cache = (X, Z1, A1, Z2)\n",
    "    \n",
    "    return probs, cache\n",
    "    "
   ]
  },
  {
   "cell_type": "markdown",
   "id": "178bb026",
   "metadata": {
    "id": "178bb026"
   },
   "source": [
    "## 5) Backpropagation\n",
    "\n",
    "La fonction `backward(probs, cache, y, W2)` retourne `dW1, db1, dW2, db2`."
   ]
  },
  {
   "cell_type": "code",
   "execution_count": 7,
   "id": "d974387f",
   "metadata": {
    "id": "d974387f"
   },
   "outputs": [],
   "source": [
    "def backward(probs, cache, y, W2):\n",
    "    \"\"\"Passe arrière : calcule les gradients\"\"\"\n",
    "    X, Z1, A1, Z2 = cache  # Récupère les valeurs du forward\n",
    "    N = X.shape[0]  # Nombre d'exemples\n",
    "    \n",
    "    # One-hot encoding : convertit y en vecteur [0,1,0] par exemple\n",
    "    Y_onehot = np.zeros_like(probs)  # Matrice de zéros (120, 3)\n",
    "    Y_onehot[np.arange(N), y] = 1.0  # Met 1 à l'indice de la bonne classe\n",
    "\n",
    "    # Gradient de la couche 2\n",
    "    dZ2 = probs - Y_onehot  # 💡 Dérivée de softmax + cross-entropy\n",
    "    dW2 = np.matmul(A1.T, dZ2) / N  # Gradient de W2\n",
    "    db2 = np.sum(dZ2, axis=0, keepdims=True) / N  # Gradient de b2\n",
    "\n",
    "    # Backprop vers la couche 1\n",
    "    dA1 = np.matmul(dZ2, W2.T)  # Gradient qui remonte\n",
    "    dZ1 = dA1 * relu_deriv(Z1)  # Multiplie par dérivée de ReLU\n",
    "    # ⛳ À COMPLETER dW1 Gradient de W1\n",
    "    dW1 = np.matmul(X.T, dZ1) / N\n",
    "    # ⛳ À COMPLETER db1 Gradient de b1\n",
    "    db1 = np.sum(dZ1, axis=0, keepdims=True) / N\n",
    "    \n",
    "    return dW1, db1, dW2, db2\n"
   ]
  },
  {
   "cell_type": "markdown",
   "id": "b0300b2c",
   "metadata": {
    "id": "b0300b2c"
   },
   "source": [
    "## 6) Entraînement\n",
    "\n",
    "Boucle d'entraînement avec descente de gradient (batch entier).\n",
    "Affichage loss/accuracy toutes les 100 epochs."
   ]
  },
  {
   "cell_type": "code",
   "execution_count": 12,
   "id": "151a45dc",
   "metadata": {
    "id": "151a45dc"
   },
   "outputs": [
    {
     "name": "stdout",
     "output_type": "stream",
     "text": [
      "Loss finale après 1000 epochs : 0.0413\n",
      "Accuracy finale après 1000 epochs : 98.33%\n"
     ]
    }
   ],
   "source": [
    "# hyperparams\n",
    "lr = 0.05\n",
    "epochs = 1000\n",
    "loss_history = []\n",
    "acc_history = []\n",
    "# ⛳ À COMPLETER boucle d'entraînement complète\n",
    "for epoch in range(1, epochs + 1):\n",
    "    probs, cache = forward(X_train, W1, b1, W2, b2)\n",
    "    \n",
    "    loss = cross_entropy_loss(probs, y_train)\n",
    "    acc = accuracy(probs, y_train)\n",
    "    loss_history.append(loss)\n",
    "    acc_history.append(acc)\n",
    "    \n",
    "    dW1, db1, dW2, db2 = backward(probs, cache, y_train, W2)\n",
    "    \n",
    "    W1 -= lr * dW1\n",
    "    b1 -= lr * db1\n",
    "    W2 -= lr * dW2\n",
    "    b2 -= lr * db2\n",
    "# A la fin, afficher la loss finale et l'accuracy\n",
    "print(f\"Loss finale après {epochs} epochs : {loss_history[-1]:.4f}\")\n",
    "print(f\"Accuracy finale après {epochs} epochs : {acc_history[-1]*100:.2f}%\")\n",
    "\n"
   ]
  },
  {
   "cell_type": "markdown",
   "id": "ce522ac2",
   "metadata": {
    "id": "ce522ac2"
   },
   "source": [
    "## 7) Évaluation\n",
    "\n",
    "Évaluation sur le set de test, affiche matrice de confusion et courbes."
   ]
  },
  {
   "cell_type": "code",
   "execution_count": 18,
   "id": "e46153bc",
   "metadata": {
    "id": "e46153bc"
   },
   "outputs": [
    {
     "name": "stdout",
     "output_type": "stream",
     "text": [
      "Test - loss: 0.0138, acc: 100.00%\n"
     ]
    },
    {
     "data": {
      "image/png": "[encoded data removed]",
      "text/plain": [
       "<Figure size 432x288 with 2 Axes>"
      ]
     },
     "metadata": {
      "needs_background": "light"
     },
     "output_type": "display_data"
    }
   ],
   "source": [
    "# ⛳ À COMPLETER forward sur X_test, calculer loss et accuracy\n",
    "probs_test, _ = forward(X_test, W1, b1, W2, b2)\n",
    "test_loss = cross_entropy_loss(probs_test, y_test)\n",
    "test_acc = accuracy(probs_test, y_test)\n",
    "print(f\"Test - loss: {test_loss:.4f}, acc: {test_acc*100:.2f}%\")\n",
    "\n",
    "preds = np.argmax(probs_test, axis = 1)\n",
    "cm = confusion_matrix(y_test, preds)\n",
    "ConfusionMatrixDisplay(cm, display_labels=iris.target_names).plot(cmap='Blues')\n",
    "plt.title(\"Matrice de confusion Test set\")\n",
    "plt.show()\n",
    "# ⛳ À COMPLETER afficher matrice de confusion\n",
    "# ⛳ À COMPLETER tracer loss_history et acc_history\n"
   ]
  },
  {
   "cell_type": "markdown",
   "id": "5a4c605f",
   "metadata": {
    "id": "5a4c605f"
   },
   "source": [
    "## Exercices\n",
    "\n",
    "1) Remplacer `ReLU` par `tanh` ou `sigmoid` et comparer la convergence.\n",
    "2) Modifier le `learning rate` et observer les modifications.\n",
    "3) Ajouter régularisation L2 : ajouter `lambda * W` aux gradients.\n",
    "4) Implémenter mini-batch SGD (shuffle + batches).\n",
    "\n"
   ]
  }
 ],
 "metadata": {
  "colab": {
   "provenance": []
  },
  "kernelspec": {
   "display_name": "Python 3 (ipykernel)",
   "language": "python",
   "name": "python3"
  },
  "language_info": {
   "codemirror_mode": {
    "name": "ipython",
    "version": 3
   },
   "file_extension": ".py",
   "mimetype": "text/x-python",
   "name": "python",
   "nbconvert_exporter": "python",
   "pygments_lexer": "ipython3",
   "version": "3.10.12"
  }
 },
 "nbformat": 4,
 "nbformat_minor": 5
}
