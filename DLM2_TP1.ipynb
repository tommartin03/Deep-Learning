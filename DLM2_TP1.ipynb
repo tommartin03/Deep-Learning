{
 "cells": [
  {
   "cell_type": "markdown",
   "metadata": {
    "id": "eVYe42OSCdlU"
   },
   "source": []
  },
  {
   "cell_type": "markdown",
   "metadata": {
    "id": "jtPGQG6DChlW"
   },
   "source": [
    "# **TP1 -- Bases mathématiques et python**\n",
    "\n",
    "Ce notebook a pour l'objectif de familier avec les concepts mathématiques de base, nécessaires pour ce module Deep Learning.\n",
    "\n",
    "L'apprentissage ne se passe PAS seulement en lisant. Vous devez travailler toutes les cellules suivantes et les exécuter une à une. A plusieurs endroits vous verrez des \"TO DO\". Suivez les instructions à ces endroits et écrivez le code pour compléter les fonctions.   "
   ]
  },
  {
   "cell_type": "code",
   "execution_count": 1,
   "metadata": {
    "id": "JU2HEyF0CUll"
   },
   "outputs": [
    {
     "name": "stderr",
     "output_type": "stream",
     "text": [
      "/usr/local/lib/python3.10/dist-packages/matplotlib/projections/__init__.py:63: UserWarning: Unable to import Axes3D. This may be due to multiple versions of Matplotlib being installed (e.g. as a system package and as a pip package). As a result, the 3D projection is not available.\n",
      "  warnings.warn(\"Unable to import Axes3D. This may be due to multiple versions of \"\n"
     ]
    }
   ],
   "source": [
    "# Import library numpy\n",
    "import numpy as np\n",
    "# Import library de visu\n",
    "import matplotlib.pyplot as plt"
   ]
  },
  {
   "cell_type": "markdown",
   "metadata": {
    "id": "MrTq1uNWHFRO"
   },
   "source": [
    "\n",
    "# Vecteurs\n",
    "\n",
    "Compléter le code suivant et l'exécuter pour vérifier après chaque question."
   ]
  },
  {
   "cell_type": "code",
   "execution_count": 2,
   "metadata": {
    "colab": {
     "base_uri": "https://localhost:8080/"
    },
    "id": "9GXmZbRFZTcp",
    "outputId": "ea76f2ad-fb3c-4af4-cce6-198db2e0b23d"
   },
   "outputs": [
    {
     "name": "stdout",
     "output_type": "stream",
     "text": [
      "[0. 0. 0. 0. 0. 0. 0. 0. 0. 0.]\n",
      "[1 4 9]\n",
      "[ 1.  2.  3.  4.  5.  6.  7.  8.  9. 10.]\n",
      "[0. 1. 2. 3. 4. 5. 6. 7. 8. 9.]\n",
      "[0.46577706 0.43412359 0.66939585 0.23626042 0.73373489]\n",
      "[0.  0.2 0.4 0.6 0.8 1.  1.2 1.4 1.6 1.8]\n",
      "[0.         0.02222222 0.04444444 0.06666667 0.08888889 0.11111111\n",
      " 0.13333333 0.15555556 0.17777778 0.2       ]\n"
     ]
    }
   ],
   "source": [
    "# TO DO -- remplacer la ligne suivante pour créer un vecteur de taille 10 de zéros (utiliser np.zeros())\n",
    "x = np.zeros(10)\n",
    "print(x)\n",
    "\n",
    "# TO DO -- répondre à chacune des questions suivantes et exécuter pour vérifier\n",
    "# - créer le vecteur [1,4,9] (utiliser np.array())\n",
    "y = np.array([1,4,9])\n",
    "print(y)\n",
    "# - créer un vecteur des valeurs de 1.0 à 10.0 : [1., 2., 3., 4., 5., 6., 7., 8., 9., 10.] (utiliser np.arange())\n",
    "z = np.arange(1.0,11.0)\n",
    "print(z)\n",
    "# - créer un vecteur des valeurs de 0.0 à 9.0\n",
    "w = np.arange(0.0,10.0)\n",
    "print(w)\n",
    "# - créer un vecteur de taille 5 avec des valeurs aléatoires (utiliser np.random.random())\n",
    "a = np.random.random(5)\n",
    "print(a)\n",
    "# - créer un vecteur avec des valeurs de 0.0 à 2.0 espacées de 0.2 : [0. , 0.2, 0.4, 0.6, 0.8, 1. , 1.2, 1.4, 1.6, 1.8, 2. ] (utiliser np.arange())\n",
    "b = np.arange(0.0,2.0,0.2)\n",
    "print(b)\n",
    "# - même question en utilisant np.linspace()\n",
    "c = np.linspace(0.0,0.2,10)\n",
    "print(c)\n"
   ]
  },
  {
   "cell_type": "markdown",
   "metadata": {
    "id": "lcdsnD7hggR-"
   },
   "source": [
    "**Opérations sur des vecteurs**\n",
    "\n",
    "Avec les questions suivantes vous vous familiarisez avec des opérations sur des vecteurs."
   ]
  },
  {
   "cell_type": "code",
   "execution_count": 3,
   "metadata": {
    "id": "HT4mFwlyiwTa"
   },
   "outputs": [
    {
     "name": "stdout",
     "output_type": "stream",
     "text": [
      "[0 1 2 3 4] [5 6 7 8 9]\n",
      "0 4 2.0\n",
      "10 0\n",
      "[[ 5  7  9 11 13]\n",
      " [-5 -5 -5 -5 -5]]\n",
      "[ 0  1  4  9 16]\n",
      "[0.         1.         1.41421356 1.73205081 2.        ]\n",
      "[ 0.          0.84147098  0.90929743  0.14112001 -0.7568025 ]\n",
      "80\n"
     ]
    }
   ],
   "source": [
    "# TO DO\n",
    "# - créer un vecteur x de taille 5  ([0., 1., 2., 3., 4.]) et un vecteur y ([5., 6., 7., 8., 9.])\n",
    "x = np.arange(0,5)\n",
    "y = np.arange(5,10)\n",
    "print(x,y)\n",
    "# - afficher la valeur min/max/moyenne des valeurs du vecteur x (utiliser np.min(), np.max(), np.mean())\n",
    "print(np.min(x), np.max(x), np.mean(x))\n",
    "# - calculer et afficher la somme / le produit des valeurs dans x (np.sum(), np.prod())\n",
    "somme = np.sum(x)\n",
    "produit = np.prod(x)\n",
    "print(somme, produit)\n",
    "# - calculer et afficher le vecteur z qui vaut x+y, x-y\n",
    "add = x+y\n",
    "sub = x-y\n",
    "z = np.array([add,sub])\n",
    "print(z)\n",
    "# - calculer et afficher le vecteur obtenu de x avec les valeurs au carré [ 0.,  1.,  4.,  9., 16.] (np.square())\n",
    "square = np.square(x)\n",
    "print(square)\n",
    "# - calculer et afficher le vecteur obtenu de x avec les valeurs à la racine carrée [0., 1., 1.41421356, 1.73205081, 2. ]\n",
    "sqrt = np.sqrt(x)\n",
    "print(sqrt)\n",
    "# - calculer et afficher le vecteur obtenu de x avec les valeurs sin des valeurs de x [ 0.,  0.84147098,  0.90929743,  0.14112001, -0.7568025 ] ()\n",
    "sin = np.sin(x)\n",
    "print(sin)\n",
    "# - calculer et afficher le produit scalaire des deux vecteurs x et y (utiliser np.dot())\n",
    "scal = np.dot(x,y)\n",
    "print(scal)\n"
   ]
  },
  {
   "cell_type": "markdown",
   "metadata": {
    "id": "VP9lMj0teXpP"
   },
   "source": [
    "# **Matrices**\n",
    "\n",
    "Compléter le code suivant et l'exécuter pour vérifier après chaque question."
   ]
  },
  {
   "cell_type": "code",
   "execution_count": 4,
   "metadata": {
    "id": "BdMiBf8hemYu"
   },
   "outputs": [
    {
     "name": "stdout",
     "output_type": "stream",
     "text": [
      "[[ 1.  2.  3.  4.]\n",
      " [ 5.  6.  7.  8.]\n",
      " [ 9. 10. 11. 12.]]\n",
      "[[ 1.  5.  9.]\n",
      " [ 2.  6. 10.]\n",
      " [ 3.  7. 11.]\n",
      " [ 4.  8. 12.]]\n",
      "[[0.31243937 0.88977039 0.07216095 0.19280969]\n",
      " [0.37297866 0.41896949 0.60153621 0.43581448]\n",
      " [0.8728881  0.18225611 0.61143798 0.05541716]]\n",
      "[[0 1 2]\n",
      " [3 4 5]]\n",
      "[[0 3]\n",
      " [1 4]\n",
      " [2 5]]\n",
      "[[ 5 14]\n",
      " [14 50]]\n"
     ]
    }
   ],
   "source": [
    "# TO DO -- remplacer la ligne suivante pour créer une matrice de taille 3x4 de valleurs de 1.0 à 12.0 (penser à dtype !) :\n",
    "#      [[ 1.,  2.,  3.,  4.],\n",
    "#       [ 5.,  6.,  7.,  8.],\n",
    "#       [ 9., 10., 11., 12.]]\n",
    "\n",
    "X = np.arange(1.0,13.0).reshape(3,4)\n",
    "print(X)\n",
    "\n",
    "\n",
    "# TO DO\n",
    "# - calculer et afficher la matrice transposée de X (utiliser transpose())\n",
    "transpo = np.transpose(X)\n",
    "print(transpo)\n",
    "# - créer une matrice Y de taille 3x4 de valeurs aléatoires\n",
    "Y = np.random.rand(3,4)\n",
    "print(Y)\n",
    "# - créer une matrice Z de taille 2x3 [[0, 1, 2],[3, 4, 5]], calculer et afficher la transposé,le produit Le résultat correct est [[ 5, 14], [14, 50]]\n",
    "# vous devez obtenir les résultats suivants :\n",
    "# Matrice transposée de X (X^T) :\n",
    "# [[ 1.  5.  9.]\n",
    "# [ 2.  6. 10.]\n",
    "# [ 3.  7. 11.]\n",
    "# [ 4.  8. 12.]]\n",
    "# Matrice Y (aléatoire 3x4) :\n",
    "# [[0.67972919 0.57574049 0.91738928 0.97565879]\n",
    "# [0.18640641 0.54079766 0.53994698 0.05090692]\n",
    "# [0.14322171 0.62452816 0.93752433 0.54686338]]\n",
    "\n",
    "# Matrice Z (2x3) :\n",
    "# [[0 1 2]\n",
    "# [3 4 5]]\n",
    "\n",
    "Z = np.arange(0,6).reshape(2,3)\n",
    "print(Z)\n",
    "\n",
    "# Matrice transposée de Z (Z^T) :\n",
    "# [[0 3]\n",
    "# [1 4]\n",
    "# [2 5]]\n",
    "\n",
    "transpo_z = np.transpose(Z)\n",
    "print(transpo_z)\n",
    "\n",
    "# Produit Z^T :\n",
    "# [[ 5 14]\n",
    "# [14 50]]\n",
    "\n",
    "prod_Z = np.prod(transpo_z)\n",
    "print(np.dot(Z,transpo_z))\n"
   ]
  },
  {
   "cell_type": "markdown",
   "metadata": {
    "id": "LI2h-u-BDQFg"
   },
   "source": [
    "# **Fonctions linéaires**<br>\n",
    "\n",
    "\n",
    "\\begin{equation}y=\\beta+\\omega x,\\end{equation}\n",
    "\n",
    "où $\\beta$ est l'ordonnée à l'origine (donc c'est plutôt ue fonction affine... mais concédons) et $\\omega$ est la pente. Dans le cas de 2 entrées $x_{1}$ et $x_{2}$, la fonction devient :\n",
    "\n",
    "\\begin{equation}y=\\beta+\\omega_1 x_1 + \\omega_2 x_2.\\end{equation}\n",
    "\n",
    "Toutes les autres fonctions sont par défintion **non-linéaires**."
   ]
  },
  {
   "cell_type": "code",
   "execution_count": 5,
   "metadata": {
    "id": "WeFK4AvTotd8"
   },
   "outputs": [],
   "source": [
    "# Définir une fonction linéaire avec une seule entrée, x\n",
    "def linear_function_1D(x,beta,omega):\n",
    "  # TODO -- remplacez la ligne de code ci-dessous par la formule de l'équation linéaire  à une dimension (1D)\n",
    "  y = beta + omega * x\n",
    "  return y"
   ]
  },
  {
   "cell_type": "code",
   "execution_count": 6,
   "metadata": {
    "colab": {
     "base_uri": "https://localhost:8080/",
     "height": 455
    },
    "id": "eimhJ8_jpmEp",
    "outputId": "89519cd1-6890-490e-e5d8-bd948464e9f0"
   },
   "outputs": [
    {
     "data": {
      "image/png": "[encoded data removed]",
      "text/plain": [
       "<Figure size 432x288 with 1 Axes>"
      ]
     },
     "metadata": {
      "needs_background": "light"
     },
     "output_type": "display_data"
    }
   ],
   "source": [
    "# Tracer la fonction linéaire 1D\n",
    "\n",
    "# Définissez un tableau de valeurs x de 0 à 10 avec des incréments de 0,01\n",
    "# https://numpy.org/doc/stable/reference/generated/numpy.arange.html\n",
    "x = np.arange(0.0,10.0, 0.01)\n",
    "# Calculez y en utilisant la fonction que vous avez proposée ci-dessus\n",
    "beta = 10.0; omega = -2.0\n",
    "y = linear_function_1D(x,beta,omega)\n",
    "\n",
    "# Tracez cette fonction en utilisant le code ci-dessous :\n",
    "fig, ax = plt.subplots()\n",
    "ax.plot(x,y,'r-')\n",
    "ax.set_ylim([0,10]);ax.set_xlim([0,10])\n",
    "ax.set_xlabel('x'); ax.set_ylabel('y')\n",
    "plt.show()\n",
    "\n",
    "# TODO -- expérimentez en modifiant les valeurs de beta et d'omega\n",
    "# pour comprendre ce qu'ils font.  Essayez de tracer une ligne\n",
    "# qui croise l'axe y en y=10 et l'axe x en x=5"
   ]
  },
  {
   "cell_type": "markdown",
   "metadata": {
    "id": "onFgO-sQzuvN"
   },
   "source": [
    "\n",
    "Prenons un exemple à 3 dimensions, et introduisons le calcul matriciel avec `numpy`. Ci-après la correspondance entre notations :\n",
    "\n",
    "\n",
    "notation :\n",
    "\\begin{align}y_1 &=& \\beta_1 + \\omega_{11} x_1 + \\omega_{12} x_2 + \\omega_{13} x_3\\\\\n",
    "y_2 &=& \\beta_2 + \\omega_{21} x_1 + \\omega_{22} x_2 + \\omega_{23} x_3.\n",
    "\\end{align}\n",
    "\n",
    "notation :\n",
    "\n",
    "\\begin{equation}\n",
    "\\begin{bmatrix} y_1\\\\ y_2 \\end{bmatrix} = \\begin{bmatrix}\\beta_{1}\\\\\\beta_{2}\\end{bmatrix}+ \\begin{bmatrix}\\omega_{11}&\\omega_{12}&\\omega_{13}\\\\\\omega_{21}&\\omega_{22}&\\omega_{23}\\end{bmatrix}\\begin{bmatrix}x_{1}\\\\x_{2}\\\\x_{3}\\end{bmatrix},\n",
    "\\end{equation}\n",
    "ou\n",
    "\n",
    "\\begin{equation}\n",
    "\\mathbf{y} = \\boldsymbol\\beta +\\boldsymbol\\Omega\\mathbf{x}.\n",
    "\\end{equation}\n",
    "\n",
    "Vérifions dans un premier temps que `matmul()` agit comme nous le souhaitons.\n"
   ]
  },
  {
   "cell_type": "code",
   "execution_count": 7,
   "metadata": {
    "id": "MjHXMavh9IUz"
   },
   "outputs": [],
   "source": [
    "#  Définir une fonction linéaire avec trois entrées, x1, x2 et x_3\n",
    "def linear_function_3D(x1,x2,x3,beta,omega1,omega2,omega3):\n",
    "  # TODO -- remplacez le code ci-dessous par la formule pour une seule équation linéaire 3D utilisant la première notation comme pour 1D.  \n",
    "    y = beta + (omega1*x1) + (omega2*x2) + (omega3*x3)\n",
    "    return y\n"
   ]
  },
  {
   "cell_type": "code",
   "execution_count": 8,
   "metadata": {
    "id": "Swd_bFIE9p2n"
   },
   "outputs": [
    {
     "name": "stdout",
     "output_type": "stream",
     "text": [
      "Individual equations\n",
      "y1 = -4.500\n",
      "y2 = 2.900\n",
      "Matrix/vector form\n",
      "y1= -4.500\n",
      "y2 = 2.900\n"
     ]
    }
   ],
   "source": [
    "# Définir les paramètres\n",
    "beta1 = 0.5; beta2 = 0.2\n",
    "omega11 =  -1.0 ; omega12 = 0.4; omega13 = -0.3\n",
    "omega21 =  0.1  ; omega22 = 0.1; omega23 = 1.2\n",
    "\n",
    "# Définir les entrées\n",
    "x1 = 4 ; x2 =-1; x3 = 2\n",
    "\n",
    "# Calculer en utilisant la première notation\n",
    "y1 = linear_function_3D(x1,x2,x3,beta1,omega11,omega12,omega13)\n",
    "y2 = linear_function_3D(x1,x2,x3,beta2,omega21,omega22,omega23)\n",
    "print(\"Individual equations\")\n",
    "print('y1 = %3.3f\\ny2 = %3.3f'%((y1,y2)))\n",
    "\n",
    "\n",
    "# Définir les vecteurs et matrices\n",
    "beta_vec = np.array([[beta1],[beta2]])\n",
    "omega_mat = np.array([[omega11,omega12,omega13],[omega21,omega22,omega23]])\n",
    "x_vec = np.array([[x1], [x2], [x3]])\n",
    "\n",
    "# Calculer avec la forme vecteur/matrice\n",
    "y_vec = beta_vec+np.matmul(omega_mat, x_vec)\n",
    "print(\"Matrix/vector form\")\n",
    "print('y1= %3.3f\\ny2 = %3.3f'%((y_vec[0][0],y_vec[1][0])))\n"
   ]
  },
  {
   "cell_type": "markdown",
   "metadata": {
    "id": "xVA7vMXIbPUX"
   },
   "source": [
    "A vous de jouer sur le 2D !"
   ]
  },
  {
   "cell_type": "code",
   "execution_count": 9,
   "metadata": {
    "id": "57Gvkk-Ir_7b"
   },
   "outputs": [],
   "source": [
    "# Code pour dessiner une fonction 2D - lisez-le pour savoir ce qui se passe, mais vous n'êtes pas obligés de le modifier\n",
    "def draw_2D_function(x1_mesh, x2_mesh, y):\n",
    "    fig, ax = plt.subplots()\n",
    "    fig.set_size_inches(7, 7)\n",
    "\n",
    "    # Création du contour rempli\n",
    "    pos = ax.contourf(x1_mesh, x2_mesh, y, levels=256, cmap='hot', vmin=-10, vmax=10.0)\n",
    "    fig.colorbar(pos, ax=ax)\n",
    "\n",
    "    # Paramètres de l'axe\n",
    "    ax.set_xlabel('x1')\n",
    "    ax.set_ylabel('x2')\n",
    "\n",
    "    # Ajout des contours de niveau\n",
    "    levels = np.arange(-10, 10, 1.0)\n",
    "    ax.contour(x1_mesh, x2_mesh, y, levels, cmap='winter')\n",
    "\n",
    "    plt.show()"
   ]
  },
  {
   "cell_type": "code",
   "execution_count": 12,
   "metadata": {
    "id": "YxeNhrXMzkZR"
   },
   "outputs": [],
   "source": [
    "# Définir une fonction linéaire avec deux entrées, x1 et x2 et un seul beta\n",
    "def linear_function_2D(x1,x2,beta,omega1,omega2):\n",
    "  #  On crée un vecteur d'entrées avec x1 et x2 (de taille n x 2 pour la multiplication par omega, utiliser np.stack()) https://numpy.org/doc/stable/reference/generated/numpy.stack.html\n",
    "    x = np.stack([x1, x2], axis=-1)\n",
    "\n",
    "  # TODO -- Créer le vecteur des coefficients omega (np.array())\n",
    "    omega = np.array([omega1,omega2])\n",
    "\n",
    "  # Calcul de la fonction linéaire y = omega @ x.T + beta\n",
    "    y = np.matmul(x, omega) + beta\n",
    "\n",
    "    return y"
   ]
  },
  {
   "cell_type": "markdown",
   "metadata": {
    "id": "8GW3lGQjfmQK"
   },
   "source": [
    "# Fonctions spéciales\n",
    "\n",
    "Certaines fonctions nous serons utiles pour la suite,\n",
    "observons la fonction exponentiel pour commencer :\n",
    " $y=\\exp[x]=e^x$ qui projette les reels $[-\\infty,+\\infty]$ en nombres non négatifs $[0,+\\infty]$."
   ]
  },
  {
   "cell_type": "code",
   "execution_count": 39,
   "metadata": {
    "colab": {
     "base_uri": "https://localhost:8080/",
     "height": 619
    },
    "id": "rn_UBRDBysmR",
    "outputId": "399425e5-2b96-491d-9c2c-d26f443e780b"
   },
   "outputs": [
    {
     "data": {
      "image/png": "[encoded data removed]",
      "text/plain": [
       "<Figure size 504x504 with 2 Axes>"
      ]
     },
     "metadata": {
      "needs_background": "light"
     },
     "output_type": "display_data"
    }
   ],
   "source": [
    "# Tracer la fonction 2D\n",
    "\n",
    "# Créer un tableau 2D de points x et y\n",
    "x1 = np.arange(0.0, 10.0, 0.1)\n",
    "x2 = np.arange(0.0, 10.0, 0.1)\n",
    "x1,x2 = np.meshgrid(x1,x2)  # https://www.geeksforgeeks.org/numpy-meshgrid-function/\n",
    "\n",
    "# Calculer la fonction 2D pour des valeurs données d'omega1, omega2\n",
    "beta = 10.0; omega1 = -5.0; omega2 = 0.0\n",
    "y  = linear_function_2D(x1,x2,beta, omega1, omega2)\n",
    "\n",
    "# Dessinez la fonction.\n",
    "# La couleur représente la valeur y (plus lumineuse = valeur plus élevée)\n",
    "# Noir = -10 ou moins, Blanc = +10 ou plus\n",
    "# 0 = orange moyen\n",
    "# Les lignes sont des contours dont la valeur est égale\n",
    "draw_2D_function(x1,x2,y)\n",
    "\n",
    "# TODO\n",
    "# Prédisez à quoi ressemblera ce tracé si vous définissez omega_1 sur zéro\n",
    "# Changez le code et voyez si vous avez raison.\n",
    "#\n",
    "# TODO\n",
    "# Prédisez à quoi ressemblera ce tracé si vous définissez omega_2 sur zéro\n",
    "# Changez le code et voyez si vous avez raison.\n",
    "\n",
    "# TODO\n",
    "# Prédisez à quoi ressemblera ce tracé si vous définissez la version bêta sur -5\n",
    "# Changez le code et voyez si vous avez raison\n"
   ]
  },
  {
   "cell_type": "code",
   "execution_count": 42,
   "metadata": {
    "colab": {
     "base_uri": "https://localhost:8080/",
     "height": 455
    },
    "id": "c_GkjiY9IWCu",
    "outputId": "67949fde-e0e0-427a-b2ca-30bbeb043111"
   },
   "outputs": [
    {
     "data": {
      "image/png": "[encoded data removed]",
      "text/plain": [
       "<Figure size 432x288 with 1 Axes>"
      ]
     },
     "metadata": {
      "needs_background": "light"
     },
     "output_type": "display_data"
    }
   ],
   "source": [
    "# Dessinez la fonction exponentielle\n",
    "\n",
    "# TODO -- Définissez un tableau de valeurs x de -5 à 5 avec des incréments de 0,01\n",
    "x = np.arange(-5.0,5.0, 0.01)\n",
    "y = np.exp(x) ;\n",
    "\n",
    "# Dessinez la fonction\n",
    "fig, ax = plt.subplots()\n",
    "ax.plot(x,y,'r-')\n",
    "ax.set_ylim([0,100]);ax.set_xlim([-5,5])\n",
    "ax.set_xlabel('x'); ax.set_ylabel('exp[x]')\n",
    "plt.show()"
   ]
  },
  {
   "cell_type": "markdown",
   "metadata": {
    "id": "cwGMt8czgE2O"
   },
   "source": [
    "##Questions\n",
    "1. Quelle est la valeur de $\\exp[0]$ ?\n",
    "2. Quelle est la valeur de $\\exp[1]$ ?\n",
    "3. Quelle est la valeur de $\\exp[-\\infty]$ ?\n",
    "4. Quelle est la valeur de $\\exp[+\\infty]$ ?\n",
    "5. Une fonction est convexe si nous pouvons tracer une ligne droite entre deux points quelconques de la fonction, et que la ligne se trouve au-dessus de la fonction partout entre ces deux points. De même, une fonction est concave si une ligne droite entre deux points quelconques se trouve en dessous de la fonction partout entre ces deux points. La fonction exponentielle est-elle convexe ou concave ou ni l'une ni l'autre ?\n",
    "\n",
    "\n",
    "\n",
    "\n",
    "Considérons maintenant la fonction logarithme $y=\\log[x]$ (version python). Nous utiliserons toujours des logarithmes naturels (base $e$) noté dès lors $ln$ (notation mathématique). La fonction $ln$ associe les nombres non négatifs $[0,\\infty]$ aux nombres réels $[-\\infty,\\infty]$. C'est l'inverse de la fonction exponentielle. Ainsi, lorsque nous calculons $\\ln[x]$, nous demandons en réalité « Quel est le nombre $y$ tel que $e^y=x$ ? »\n"
   ]
  },
  {
   "cell_type": "code",
   "execution_count": 43,
   "metadata": {
    "colab": {
     "base_uri": "https://localhost:8080/",
     "height": 449
    },
    "id": "fOR7v2iXIWCu",
    "outputId": "d58f2af4-8c6d-48a2-ad54-59cf1358e9e8"
   },
   "outputs": [
    {
     "data": {
      "image/png": "[encoded data removed]",
      "text/plain": [
       "<Figure size 432x288 with 1 Axes>"
      ]
     },
     "metadata": {
      "needs_background": "light"
     },
     "output_type": "display_data"
    }
   ],
   "source": [
    "# Dessinez la fonction logarithme\n",
    "\n",
    "# Définissez un tableau de valeurs x de -5 à 5 avec des incréments de 0,01\n",
    "x = np.arange(0.01,5.0, 0.01)\n",
    "y = np.log(x) ;\n",
    "\n",
    "# Dessinez cette fonction\n",
    "fig, ax = plt.subplots()\n",
    "ax.plot(x,y,'r-')\n",
    "ax.set_ylim([-5,5]);ax.set_xlim([0,5])\n",
    "ax.set_xlabel('x'); ax.set_ylabel('$\\log[x]$')\n",
    "plt.show()"
   ]
  },
  {
   "cell_type": "markdown",
   "metadata": {
    "id": "6UM42f-IgiMx"
   },
   "source": [
    "# Questions\n",
    "\n",
    "1. Quelle est la valeur de $\\log[0]$ ?\n",
    "2. Quelle est la valeur de $\\log[1]$ ?\n",
    "3. Quelle est la valeur de $\\log[e]$ ?\n",
    "4. Quelle est la valeur de $\\log[\\exp[3]]$ ?\n",
    "5. Quelle est la valeur de $\\exp[\\log[4]]$ ?\n",
    "6. Quelle est la valeur de $\\log[-1]$ ?\n",
    "7. La fonction logarithme est-elle concave ou convexe ?"
   ]
  }
 ],
 "metadata": {
  "colab": {
   "provenance": []
  },
  "kernelspec": {
   "display_name": "Python 3 (ipykernel)",
   "language": "python",
   "name": "python3"
  },
  "language_info": {
   "codemirror_mode": {
    "name": "ipython",
    "version": 3
   },
   "file_extension": ".py",
   "mimetype": "text/x-python",
   "name": "python",
   "nbconvert_exporter": "python",
   "pygments_lexer": "ipython3",
   "version": "3.10.12"
  }
 },
 "nbformat": 4,
 "nbformat_minor": 1
}
